{
 "cells": [
  {
   "cell_type": "code",
   "execution_count": 3,
   "metadata": {},
   "outputs": [],
   "source": [
    "# Import libraries and set desired options\n",
    "%matplotlib inline\n",
    "from matplotlib import pyplot as plt\n",
    "import seaborn as sns\n",
    "\n",
    "import pickle\n",
    "import numpy as np\n",
    "import pandas as pd\n",
    "from scipy.sparse import csr_matrix\n",
    "from scipy.sparse import hstack\n",
    "from sklearn.preprocessing import StandardScaler\n",
    "from sklearn.feature_extraction.text import CountVectorizer\n",
    "from sklearn.metrics import roc_auc_score, accuracy_score\n",
    "from sklearn.linear_model import LogisticRegression\n",
    "from sklearn.ensemble import RandomForestClassifier\n",
    "from sklearn.neighbors import KNeighborsClassifier\n",
    "from xgboost import XGBClassifier\n",
    "\n",
    "\n",
    "from sklearn.model_selection import GridSearchCV, cross_val_score\n",
    "\n",
    "import os\n",
    "from sklearn.preprocessing import OneHotEncoder\n",
    "import datetime\n"
   ]
  },
  {
   "cell_type": "code",
   "execution_count": 4,
   "metadata": {
    "scrolled": true
   },
   "outputs": [
    {
     "name": "stdout",
     "output_type": "stream",
     "text": [
      "['gender_submission.csv', 'test.csv', 'train.csv']\n"
     ]
    }
   ],
   "source": [
    "data_dir = 'data/titanic/'\n",
    "print(os.listdir(data_dir))\n",
    "\n",
    "train_file = data_dir + 'train.csv'\n",
    "test_file = data_dir + 'test.csv'\n",
    "\n",
    "df_train = pd.read_csv(train_file)\n",
    "df_test = pd.read_csv(test_file)"
   ]
  },
  {
   "cell_type": "code",
   "execution_count": 14,
   "metadata": {},
   "outputs": [],
   "source": [
    "# function to make submission csv file with predicted values\n",
    "def make_submission_file(y_pred, path='output/submissions/'):\n",
    "    df = pd.DataFrame({'PassengerId': df_test['PassengerId'].values, \n",
    "                      'Survived': y_pred})\n",
    "    file = path + 'sub1_{}.csv'.format(datetime.datetime.now().strftime(\"%Y_%m_%d_%H_%M_%S\"))\n",
    "    df.to_csv(file, index=False)"
   ]
  },
  {
   "cell_type": "markdown",
   "metadata": {},
   "source": [
    "**Data understanding**"
   ]
  },
  {
   "cell_type": "code",
   "execution_count": 143,
   "metadata": {
    "scrolled": true
   },
   "outputs": [
    {
     "data": {
      "text/html": [
       "<div>\n",
       "<style scoped>\n",
       "    .dataframe tbody tr th:only-of-type {\n",
       "        vertical-align: middle;\n",
       "    }\n",
       "\n",
       "    .dataframe tbody tr th {\n",
       "        vertical-align: top;\n",
       "    }\n",
       "\n",
       "    .dataframe thead th {\n",
       "        text-align: right;\n",
       "    }\n",
       "</style>\n",
       "<table border=\"1\" class=\"dataframe\">\n",
       "  <thead>\n",
       "    <tr style=\"text-align: right;\">\n",
       "      <th></th>\n",
       "      <th>PassengerId</th>\n",
       "      <th>Survived</th>\n",
       "      <th>Pclass</th>\n",
       "      <th>Name</th>\n",
       "      <th>Sex</th>\n",
       "      <th>Age</th>\n",
       "      <th>SibSp</th>\n",
       "      <th>Parch</th>\n",
       "      <th>Ticket</th>\n",
       "      <th>Fare</th>\n",
       "      <th>Cabin</th>\n",
       "      <th>Embarked</th>\n",
       "    </tr>\n",
       "  </thead>\n",
       "  <tbody>\n",
       "    <tr>\n",
       "      <th>0</th>\n",
       "      <td>1</td>\n",
       "      <td>0</td>\n",
       "      <td>3</td>\n",
       "      <td>Braund, Mr. Owen Harris</td>\n",
       "      <td>male</td>\n",
       "      <td>22.0</td>\n",
       "      <td>1</td>\n",
       "      <td>0</td>\n",
       "      <td>A/5 21171</td>\n",
       "      <td>7.2500</td>\n",
       "      <td>NaN</td>\n",
       "      <td>S</td>\n",
       "    </tr>\n",
       "    <tr>\n",
       "      <th>1</th>\n",
       "      <td>2</td>\n",
       "      <td>1</td>\n",
       "      <td>1</td>\n",
       "      <td>Cumings, Mrs. John Bradley (Florence Briggs Th...</td>\n",
       "      <td>female</td>\n",
       "      <td>38.0</td>\n",
       "      <td>1</td>\n",
       "      <td>0</td>\n",
       "      <td>PC 17599</td>\n",
       "      <td>71.2833</td>\n",
       "      <td>C85</td>\n",
       "      <td>C</td>\n",
       "    </tr>\n",
       "    <tr>\n",
       "      <th>2</th>\n",
       "      <td>3</td>\n",
       "      <td>1</td>\n",
       "      <td>3</td>\n",
       "      <td>Heikkinen, Miss. Laina</td>\n",
       "      <td>female</td>\n",
       "      <td>26.0</td>\n",
       "      <td>0</td>\n",
       "      <td>0</td>\n",
       "      <td>STON/O2. 3101282</td>\n",
       "      <td>7.9250</td>\n",
       "      <td>NaN</td>\n",
       "      <td>S</td>\n",
       "    </tr>\n",
       "    <tr>\n",
       "      <th>3</th>\n",
       "      <td>4</td>\n",
       "      <td>1</td>\n",
       "      <td>1</td>\n",
       "      <td>Futrelle, Mrs. Jacques Heath (Lily May Peel)</td>\n",
       "      <td>female</td>\n",
       "      <td>35.0</td>\n",
       "      <td>1</td>\n",
       "      <td>0</td>\n",
       "      <td>113803</td>\n",
       "      <td>53.1000</td>\n",
       "      <td>C123</td>\n",
       "      <td>S</td>\n",
       "    </tr>\n",
       "    <tr>\n",
       "      <th>4</th>\n",
       "      <td>5</td>\n",
       "      <td>0</td>\n",
       "      <td>3</td>\n",
       "      <td>Allen, Mr. William Henry</td>\n",
       "      <td>male</td>\n",
       "      <td>35.0</td>\n",
       "      <td>0</td>\n",
       "      <td>0</td>\n",
       "      <td>373450</td>\n",
       "      <td>8.0500</td>\n",
       "      <td>NaN</td>\n",
       "      <td>S</td>\n",
       "    </tr>\n",
       "  </tbody>\n",
       "</table>\n",
       "</div>"
      ],
      "text/plain": [
       "   PassengerId  Survived  Pclass  \\\n",
       "0            1         0       3   \n",
       "1            2         1       1   \n",
       "2            3         1       3   \n",
       "3            4         1       1   \n",
       "4            5         0       3   \n",
       "\n",
       "                                                Name     Sex   Age  SibSp  \\\n",
       "0                            Braund, Mr. Owen Harris    male  22.0      1   \n",
       "1  Cumings, Mrs. John Bradley (Florence Briggs Th...  female  38.0      1   \n",
       "2                             Heikkinen, Miss. Laina  female  26.0      0   \n",
       "3       Futrelle, Mrs. Jacques Heath (Lily May Peel)  female  35.0      1   \n",
       "4                           Allen, Mr. William Henry    male  35.0      0   \n",
       "\n",
       "   Parch            Ticket     Fare Cabin Embarked  \n",
       "0      0         A/5 21171   7.2500   NaN        S  \n",
       "1      0          PC 17599  71.2833   C85        C  \n",
       "2      0  STON/O2. 3101282   7.9250   NaN        S  \n",
       "3      0            113803  53.1000  C123        S  \n",
       "4      0            373450   8.0500   NaN        S  "
      ]
     },
     "execution_count": 143,
     "metadata": {},
     "output_type": "execute_result"
    }
   ],
   "source": [
    "df_train.head()"
   ]
  },
  {
   "cell_type": "code",
   "execution_count": 144,
   "metadata": {},
   "outputs": [
    {
     "data": {
      "text/plain": [
       "((891, 12), (418, 11))"
      ]
     },
     "execution_count": 144,
     "metadata": {},
     "output_type": "execute_result"
    }
   ],
   "source": [
    "df_train.shape, df_test.shape"
   ]
  },
  {
   "cell_type": "code",
   "execution_count": 145,
   "metadata": {},
   "outputs": [
    {
     "data": {
      "text/html": [
       "<div>\n",
       "<style scoped>\n",
       "    .dataframe tbody tr th:only-of-type {\n",
       "        vertical-align: middle;\n",
       "    }\n",
       "\n",
       "    .dataframe tbody tr th {\n",
       "        vertical-align: top;\n",
       "    }\n",
       "\n",
       "    .dataframe thead th {\n",
       "        text-align: right;\n",
       "    }\n",
       "</style>\n",
       "<table border=\"1\" class=\"dataframe\">\n",
       "  <thead>\n",
       "    <tr style=\"text-align: right;\">\n",
       "      <th></th>\n",
       "      <th>PassengerId</th>\n",
       "      <th>Survived</th>\n",
       "      <th>Pclass</th>\n",
       "      <th>Name</th>\n",
       "      <th>Sex</th>\n",
       "      <th>Age</th>\n",
       "      <th>SibSp</th>\n",
       "      <th>Parch</th>\n",
       "      <th>Ticket</th>\n",
       "      <th>Fare</th>\n",
       "      <th>Cabin</th>\n",
       "      <th>Embarked</th>\n",
       "    </tr>\n",
       "  </thead>\n",
       "  <tbody>\n",
       "    <tr>\n",
       "      <th>count</th>\n",
       "      <td>891.000000</td>\n",
       "      <td>891.000000</td>\n",
       "      <td>891.000000</td>\n",
       "      <td>891</td>\n",
       "      <td>891</td>\n",
       "      <td>714.000000</td>\n",
       "      <td>891.000000</td>\n",
       "      <td>891.000000</td>\n",
       "      <td>891</td>\n",
       "      <td>891.000000</td>\n",
       "      <td>204</td>\n",
       "      <td>889</td>\n",
       "    </tr>\n",
       "    <tr>\n",
       "      <th>unique</th>\n",
       "      <td>NaN</td>\n",
       "      <td>NaN</td>\n",
       "      <td>NaN</td>\n",
       "      <td>891</td>\n",
       "      <td>2</td>\n",
       "      <td>NaN</td>\n",
       "      <td>NaN</td>\n",
       "      <td>NaN</td>\n",
       "      <td>681</td>\n",
       "      <td>NaN</td>\n",
       "      <td>147</td>\n",
       "      <td>3</td>\n",
       "    </tr>\n",
       "    <tr>\n",
       "      <th>top</th>\n",
       "      <td>NaN</td>\n",
       "      <td>NaN</td>\n",
       "      <td>NaN</td>\n",
       "      <td>Renouf, Mrs. Peter Henry (Lillian Jefferys)</td>\n",
       "      <td>male</td>\n",
       "      <td>NaN</td>\n",
       "      <td>NaN</td>\n",
       "      <td>NaN</td>\n",
       "      <td>1601</td>\n",
       "      <td>NaN</td>\n",
       "      <td>B96 B98</td>\n",
       "      <td>S</td>\n",
       "    </tr>\n",
       "    <tr>\n",
       "      <th>freq</th>\n",
       "      <td>NaN</td>\n",
       "      <td>NaN</td>\n",
       "      <td>NaN</td>\n",
       "      <td>1</td>\n",
       "      <td>577</td>\n",
       "      <td>NaN</td>\n",
       "      <td>NaN</td>\n",
       "      <td>NaN</td>\n",
       "      <td>7</td>\n",
       "      <td>NaN</td>\n",
       "      <td>4</td>\n",
       "      <td>644</td>\n",
       "    </tr>\n",
       "    <tr>\n",
       "      <th>mean</th>\n",
       "      <td>446.000000</td>\n",
       "      <td>0.383838</td>\n",
       "      <td>2.308642</td>\n",
       "      <td>NaN</td>\n",
       "      <td>NaN</td>\n",
       "      <td>29.699118</td>\n",
       "      <td>0.523008</td>\n",
       "      <td>0.381594</td>\n",
       "      <td>NaN</td>\n",
       "      <td>32.204208</td>\n",
       "      <td>NaN</td>\n",
       "      <td>NaN</td>\n",
       "    </tr>\n",
       "    <tr>\n",
       "      <th>std</th>\n",
       "      <td>257.353842</td>\n",
       "      <td>0.486592</td>\n",
       "      <td>0.836071</td>\n",
       "      <td>NaN</td>\n",
       "      <td>NaN</td>\n",
       "      <td>14.526497</td>\n",
       "      <td>1.102743</td>\n",
       "      <td>0.806057</td>\n",
       "      <td>NaN</td>\n",
       "      <td>49.693429</td>\n",
       "      <td>NaN</td>\n",
       "      <td>NaN</td>\n",
       "    </tr>\n",
       "    <tr>\n",
       "      <th>min</th>\n",
       "      <td>1.000000</td>\n",
       "      <td>0.000000</td>\n",
       "      <td>1.000000</td>\n",
       "      <td>NaN</td>\n",
       "      <td>NaN</td>\n",
       "      <td>0.420000</td>\n",
       "      <td>0.000000</td>\n",
       "      <td>0.000000</td>\n",
       "      <td>NaN</td>\n",
       "      <td>0.000000</td>\n",
       "      <td>NaN</td>\n",
       "      <td>NaN</td>\n",
       "    </tr>\n",
       "    <tr>\n",
       "      <th>25%</th>\n",
       "      <td>223.500000</td>\n",
       "      <td>0.000000</td>\n",
       "      <td>2.000000</td>\n",
       "      <td>NaN</td>\n",
       "      <td>NaN</td>\n",
       "      <td>20.125000</td>\n",
       "      <td>0.000000</td>\n",
       "      <td>0.000000</td>\n",
       "      <td>NaN</td>\n",
       "      <td>7.910400</td>\n",
       "      <td>NaN</td>\n",
       "      <td>NaN</td>\n",
       "    </tr>\n",
       "    <tr>\n",
       "      <th>50%</th>\n",
       "      <td>446.000000</td>\n",
       "      <td>0.000000</td>\n",
       "      <td>3.000000</td>\n",
       "      <td>NaN</td>\n",
       "      <td>NaN</td>\n",
       "      <td>28.000000</td>\n",
       "      <td>0.000000</td>\n",
       "      <td>0.000000</td>\n",
       "      <td>NaN</td>\n",
       "      <td>14.454200</td>\n",
       "      <td>NaN</td>\n",
       "      <td>NaN</td>\n",
       "    </tr>\n",
       "    <tr>\n",
       "      <th>75%</th>\n",
       "      <td>668.500000</td>\n",
       "      <td>1.000000</td>\n",
       "      <td>3.000000</td>\n",
       "      <td>NaN</td>\n",
       "      <td>NaN</td>\n",
       "      <td>38.000000</td>\n",
       "      <td>1.000000</td>\n",
       "      <td>0.000000</td>\n",
       "      <td>NaN</td>\n",
       "      <td>31.000000</td>\n",
       "      <td>NaN</td>\n",
       "      <td>NaN</td>\n",
       "    </tr>\n",
       "    <tr>\n",
       "      <th>max</th>\n",
       "      <td>891.000000</td>\n",
       "      <td>1.000000</td>\n",
       "      <td>3.000000</td>\n",
       "      <td>NaN</td>\n",
       "      <td>NaN</td>\n",
       "      <td>80.000000</td>\n",
       "      <td>8.000000</td>\n",
       "      <td>6.000000</td>\n",
       "      <td>NaN</td>\n",
       "      <td>512.329200</td>\n",
       "      <td>NaN</td>\n",
       "      <td>NaN</td>\n",
       "    </tr>\n",
       "  </tbody>\n",
       "</table>\n",
       "</div>"
      ],
      "text/plain": [
       "        PassengerId    Survived      Pclass  \\\n",
       "count    891.000000  891.000000  891.000000   \n",
       "unique          NaN         NaN         NaN   \n",
       "top             NaN         NaN         NaN   \n",
       "freq            NaN         NaN         NaN   \n",
       "mean     446.000000    0.383838    2.308642   \n",
       "std      257.353842    0.486592    0.836071   \n",
       "min        1.000000    0.000000    1.000000   \n",
       "25%      223.500000    0.000000    2.000000   \n",
       "50%      446.000000    0.000000    3.000000   \n",
       "75%      668.500000    1.000000    3.000000   \n",
       "max      891.000000    1.000000    3.000000   \n",
       "\n",
       "                                               Name   Sex         Age  \\\n",
       "count                                           891   891  714.000000   \n",
       "unique                                          891     2         NaN   \n",
       "top     Renouf, Mrs. Peter Henry (Lillian Jefferys)  male         NaN   \n",
       "freq                                              1   577         NaN   \n",
       "mean                                            NaN   NaN   29.699118   \n",
       "std                                             NaN   NaN   14.526497   \n",
       "min                                             NaN   NaN    0.420000   \n",
       "25%                                             NaN   NaN   20.125000   \n",
       "50%                                             NaN   NaN   28.000000   \n",
       "75%                                             NaN   NaN   38.000000   \n",
       "max                                             NaN   NaN   80.000000   \n",
       "\n",
       "             SibSp       Parch Ticket        Fare    Cabin Embarked  \n",
       "count   891.000000  891.000000    891  891.000000      204      889  \n",
       "unique         NaN         NaN    681         NaN      147        3  \n",
       "top            NaN         NaN   1601         NaN  B96 B98        S  \n",
       "freq           NaN         NaN      7         NaN        4      644  \n",
       "mean      0.523008    0.381594    NaN   32.204208      NaN      NaN  \n",
       "std       1.102743    0.806057    NaN   49.693429      NaN      NaN  \n",
       "min       0.000000    0.000000    NaN    0.000000      NaN      NaN  \n",
       "25%       0.000000    0.000000    NaN    7.910400      NaN      NaN  \n",
       "50%       0.000000    0.000000    NaN   14.454200      NaN      NaN  \n",
       "75%       1.000000    0.000000    NaN   31.000000      NaN      NaN  \n",
       "max       8.000000    6.000000    NaN  512.329200      NaN      NaN  "
      ]
     },
     "execution_count": 145,
     "metadata": {},
     "output_type": "execute_result"
    }
   ],
   "source": [
    "df_train.describe(include='all')"
   ]
  },
  {
   "cell_type": "code",
   "execution_count": 146,
   "metadata": {},
   "outputs": [
    {
     "data": {
      "text/html": [
       "<div>\n",
       "<style scoped>\n",
       "    .dataframe tbody tr th:only-of-type {\n",
       "        vertical-align: middle;\n",
       "    }\n",
       "\n",
       "    .dataframe tbody tr th {\n",
       "        vertical-align: top;\n",
       "    }\n",
       "\n",
       "    .dataframe thead th {\n",
       "        text-align: right;\n",
       "    }\n",
       "</style>\n",
       "<table border=\"1\" class=\"dataframe\">\n",
       "  <thead>\n",
       "    <tr style=\"text-align: right;\">\n",
       "      <th></th>\n",
       "      <th>PassengerId</th>\n",
       "      <th>Survived</th>\n",
       "      <th>Pclass</th>\n",
       "      <th>Name</th>\n",
       "      <th>Sex</th>\n",
       "      <th>Age</th>\n",
       "      <th>SibSp</th>\n",
       "      <th>Parch</th>\n",
       "      <th>Ticket</th>\n",
       "      <th>Fare</th>\n",
       "      <th>Cabin</th>\n",
       "      <th>Embarked</th>\n",
       "    </tr>\n",
       "  </thead>\n",
       "  <tbody>\n",
       "    <tr>\n",
       "      <th>159</th>\n",
       "      <td>160</td>\n",
       "      <td>0</td>\n",
       "      <td>3</td>\n",
       "      <td>Sage, Master. Thomas Henry</td>\n",
       "      <td>male</td>\n",
       "      <td>NaN</td>\n",
       "      <td>8</td>\n",
       "      <td>2</td>\n",
       "      <td>CA. 2343</td>\n",
       "      <td>69.55</td>\n",
       "      <td>NaN</td>\n",
       "      <td>S</td>\n",
       "    </tr>\n",
       "    <tr>\n",
       "      <th>180</th>\n",
       "      <td>181</td>\n",
       "      <td>0</td>\n",
       "      <td>3</td>\n",
       "      <td>Sage, Miss. Constance Gladys</td>\n",
       "      <td>female</td>\n",
       "      <td>NaN</td>\n",
       "      <td>8</td>\n",
       "      <td>2</td>\n",
       "      <td>CA. 2343</td>\n",
       "      <td>69.55</td>\n",
       "      <td>NaN</td>\n",
       "      <td>S</td>\n",
       "    </tr>\n",
       "    <tr>\n",
       "      <th>201</th>\n",
       "      <td>202</td>\n",
       "      <td>0</td>\n",
       "      <td>3</td>\n",
       "      <td>Sage, Mr. Frederick</td>\n",
       "      <td>male</td>\n",
       "      <td>NaN</td>\n",
       "      <td>8</td>\n",
       "      <td>2</td>\n",
       "      <td>CA. 2343</td>\n",
       "      <td>69.55</td>\n",
       "      <td>NaN</td>\n",
       "      <td>S</td>\n",
       "    </tr>\n",
       "    <tr>\n",
       "      <th>324</th>\n",
       "      <td>325</td>\n",
       "      <td>0</td>\n",
       "      <td>3</td>\n",
       "      <td>Sage, Mr. George John Jr</td>\n",
       "      <td>male</td>\n",
       "      <td>NaN</td>\n",
       "      <td>8</td>\n",
       "      <td>2</td>\n",
       "      <td>CA. 2343</td>\n",
       "      <td>69.55</td>\n",
       "      <td>NaN</td>\n",
       "      <td>S</td>\n",
       "    </tr>\n",
       "    <tr>\n",
       "      <th>792</th>\n",
       "      <td>793</td>\n",
       "      <td>0</td>\n",
       "      <td>3</td>\n",
       "      <td>Sage, Miss. Stella Anna</td>\n",
       "      <td>female</td>\n",
       "      <td>NaN</td>\n",
       "      <td>8</td>\n",
       "      <td>2</td>\n",
       "      <td>CA. 2343</td>\n",
       "      <td>69.55</td>\n",
       "      <td>NaN</td>\n",
       "      <td>S</td>\n",
       "    </tr>\n",
       "    <tr>\n",
       "      <th>846</th>\n",
       "      <td>847</td>\n",
       "      <td>0</td>\n",
       "      <td>3</td>\n",
       "      <td>Sage, Mr. Douglas Bullen</td>\n",
       "      <td>male</td>\n",
       "      <td>NaN</td>\n",
       "      <td>8</td>\n",
       "      <td>2</td>\n",
       "      <td>CA. 2343</td>\n",
       "      <td>69.55</td>\n",
       "      <td>NaN</td>\n",
       "      <td>S</td>\n",
       "    </tr>\n",
       "    <tr>\n",
       "      <th>863</th>\n",
       "      <td>864</td>\n",
       "      <td>0</td>\n",
       "      <td>3</td>\n",
       "      <td>Sage, Miss. Dorothy Edith \"Dolly\"</td>\n",
       "      <td>female</td>\n",
       "      <td>NaN</td>\n",
       "      <td>8</td>\n",
       "      <td>2</td>\n",
       "      <td>CA. 2343</td>\n",
       "      <td>69.55</td>\n",
       "      <td>NaN</td>\n",
       "      <td>S</td>\n",
       "    </tr>\n",
       "  </tbody>\n",
       "</table>\n",
       "</div>"
      ],
      "text/plain": [
       "     PassengerId  Survived  Pclass                               Name     Sex  \\\n",
       "159          160         0       3         Sage, Master. Thomas Henry    male   \n",
       "180          181         0       3       Sage, Miss. Constance Gladys  female   \n",
       "201          202         0       3                Sage, Mr. Frederick    male   \n",
       "324          325         0       3           Sage, Mr. George John Jr    male   \n",
       "792          793         0       3            Sage, Miss. Stella Anna  female   \n",
       "846          847         0       3           Sage, Mr. Douglas Bullen    male   \n",
       "863          864         0       3  Sage, Miss. Dorothy Edith \"Dolly\"  female   \n",
       "\n",
       "     Age  SibSp  Parch    Ticket   Fare Cabin Embarked  \n",
       "159  NaN      8      2  CA. 2343  69.55   NaN        S  \n",
       "180  NaN      8      2  CA. 2343  69.55   NaN        S  \n",
       "201  NaN      8      2  CA. 2343  69.55   NaN        S  \n",
       "324  NaN      8      2  CA. 2343  69.55   NaN        S  \n",
       "792  NaN      8      2  CA. 2343  69.55   NaN        S  \n",
       "846  NaN      8      2  CA. 2343  69.55   NaN        S  \n",
       "863  NaN      8      2  CA. 2343  69.55   NaN        S  "
      ]
     },
     "execution_count": 146,
     "metadata": {},
     "output_type": "execute_result"
    }
   ],
   "source": [
    "df_train[df_train['SibSp']==8]"
   ]
  },
  {
   "cell_type": "code",
   "execution_count": 147,
   "metadata": {},
   "outputs": [
    {
     "data": {
      "text/html": [
       "<div>\n",
       "<style scoped>\n",
       "    .dataframe tbody tr th:only-of-type {\n",
       "        vertical-align: middle;\n",
       "    }\n",
       "\n",
       "    .dataframe tbody tr th {\n",
       "        vertical-align: top;\n",
       "    }\n",
       "\n",
       "    .dataframe thead th {\n",
       "        text-align: right;\n",
       "    }\n",
       "</style>\n",
       "<table border=\"1\" class=\"dataframe\">\n",
       "  <thead>\n",
       "    <tr style=\"text-align: right;\">\n",
       "      <th></th>\n",
       "      <th>PassengerId</th>\n",
       "      <th>Pclass</th>\n",
       "      <th>Name</th>\n",
       "      <th>Sex</th>\n",
       "      <th>Age</th>\n",
       "      <th>SibSp</th>\n",
       "      <th>Parch</th>\n",
       "      <th>Ticket</th>\n",
       "      <th>Fare</th>\n",
       "      <th>Cabin</th>\n",
       "      <th>Embarked</th>\n",
       "    </tr>\n",
       "  </thead>\n",
       "  <tbody>\n",
       "    <tr>\n",
       "      <th>188</th>\n",
       "      <td>1080</td>\n",
       "      <td>3</td>\n",
       "      <td>Sage, Miss. Ada</td>\n",
       "      <td>female</td>\n",
       "      <td>NaN</td>\n",
       "      <td>8</td>\n",
       "      <td>2</td>\n",
       "      <td>CA. 2343</td>\n",
       "      <td>69.55</td>\n",
       "      <td>NaN</td>\n",
       "      <td>S</td>\n",
       "    </tr>\n",
       "    <tr>\n",
       "      <th>342</th>\n",
       "      <td>1234</td>\n",
       "      <td>3</td>\n",
       "      <td>Sage, Mr. John George</td>\n",
       "      <td>male</td>\n",
       "      <td>NaN</td>\n",
       "      <td>1</td>\n",
       "      <td>9</td>\n",
       "      <td>CA. 2343</td>\n",
       "      <td>69.55</td>\n",
       "      <td>NaN</td>\n",
       "      <td>S</td>\n",
       "    </tr>\n",
       "    <tr>\n",
       "      <th>360</th>\n",
       "      <td>1252</td>\n",
       "      <td>3</td>\n",
       "      <td>Sage, Master. William Henry</td>\n",
       "      <td>male</td>\n",
       "      <td>14.5</td>\n",
       "      <td>8</td>\n",
       "      <td>2</td>\n",
       "      <td>CA. 2343</td>\n",
       "      <td>69.55</td>\n",
       "      <td>NaN</td>\n",
       "      <td>S</td>\n",
       "    </tr>\n",
       "    <tr>\n",
       "      <th>365</th>\n",
       "      <td>1257</td>\n",
       "      <td>3</td>\n",
       "      <td>Sage, Mrs. John (Annie Bullen)</td>\n",
       "      <td>female</td>\n",
       "      <td>NaN</td>\n",
       "      <td>1</td>\n",
       "      <td>9</td>\n",
       "      <td>CA. 2343</td>\n",
       "      <td>69.55</td>\n",
       "      <td>NaN</td>\n",
       "      <td>S</td>\n",
       "    </tr>\n",
       "  </tbody>\n",
       "</table>\n",
       "</div>"
      ],
      "text/plain": [
       "     PassengerId  Pclass                            Name     Sex   Age  SibSp  \\\n",
       "188         1080       3                 Sage, Miss. Ada  female   NaN      8   \n",
       "342         1234       3           Sage, Mr. John George    male   NaN      1   \n",
       "360         1252       3     Sage, Master. William Henry    male  14.5      8   \n",
       "365         1257       3  Sage, Mrs. John (Annie Bullen)  female   NaN      1   \n",
       "\n",
       "     Parch    Ticket   Fare Cabin Embarked  \n",
       "188      2  CA. 2343  69.55   NaN        S  \n",
       "342      9  CA. 2343  69.55   NaN        S  \n",
       "360      2  CA. 2343  69.55   NaN        S  \n",
       "365      9  CA. 2343  69.55   NaN        S  "
      ]
     },
     "execution_count": 147,
     "metadata": {},
     "output_type": "execute_result"
    }
   ],
   "source": [
    "df_test[df_test['Name'].str.contains('Sage,')]"
   ]
  },
  {
   "cell_type": "markdown",
   "metadata": {},
   "source": [
    "**Observations**\n",
    "- missing value in column Age (177/891), Cabin (687/891) and Embarked (2/891)\n",
    "- PassengerId seems to be randomly distributed, which is not useful\n",
    "- It happens that multiple passengers share one ticket\n",
    "- We might be able to dig out more information by tranforming features: Name, SibSp and Parch  "
   ]
  },
  {
   "cell_type": "markdown",
   "metadata": {},
   "source": [
    "**Some hypothesis**\n",
    "- Pclass, Fare, Sex, Age can be good features because people of a particular group can have better chance of survival than others\n",
    "- SibSp, Parch might give additional information\n",
    "- Ticket: people share the same ticket might have similar chance of survival\n",
    "- Cabin: people in the same Cabin might have similar chance of survival; however, this feature has a lot of missing data"
   ]
  },
  {
   "cell_type": "markdown",
   "metadata": {},
   "source": [
    "## EDA\n",
    "\n",
    "Let's perform some exploratory analysis on the data. "
   ]
  },
  {
   "cell_type": "markdown",
   "metadata": {},
   "source": [
    "**Univariate analysis**"
   ]
  },
  {
   "cell_type": "code",
   "execution_count": 179,
   "metadata": {
    "scrolled": true
   },
   "outputs": [
    {
     "data": {
      "text/plain": [
       "<matplotlib.axes._subplots.AxesSubplot at 0x7f1cdb77f0f0>"
      ]
     },
     "execution_count": 179,
     "metadata": {},
     "output_type": "execute_result"
    },
    {
     "data": {
      "image/png": "[encoded data removed]",
      "text/plain": [
       "<Figure size 360x216 with 1 Axes>"
      ]
     },
     "metadata": {
      "needs_background": "light"
     },
     "output_type": "display_data"
    }
   ],
   "source": [
    "plt.subplots(1,1,figsize=(5,3))\n",
    "sns.countplot(df_train['Survived'])"
   ]
  },
  {
   "cell_type": "markdown",
   "metadata": {},
   "source": [
    "- Seems to be a balanced dataset. In this exercise, it is unclear which accuracy score is better. "
   ]
  },
  {
   "cell_type": "code",
   "execution_count": 237,
   "metadata": {
    "scrolled": false
   },
   "outputs": [
    {
     "data": {
      "image/png": "[encoded data removed]",
      "text/plain": [
       "<Figure size 720x1080 with 10 Axes>"
      ]
     },
     "metadata": {
      "needs_background": "light"
     },
     "output_type": "display_data"
    }
   ],
   "source": [
    "# start with categorical variables\n",
    "cat_cols = ['Pclass', 'Sex', 'SibSp', 'Parch', 'Embarked']\n",
    "\n",
    "fig, axes = plt.subplots(len(cat_cols), 2, figsize=(10, 3 * len(cat_cols)))\n",
    "plt.subplots_adjust(hspace=0.3)\n",
    "\n",
    "for i, col in enumerate(cat_cols):\n",
    "    sns.countplot(x=col, data=df_train, ax=axes[i, 0])\n",
    "    sns.barplot(x=col, y='Survived', data=df_train, ax=axes[i, 1])"
   ]
  },
  {
   "cell_type": "markdown",
   "metadata": {},
   "source": [
    "**Observations**\n",
    "- higher class and femail passengers have higher chance of survival\n",
    "- passengers with one or more family members seem to have higher chance of survival\n",
    "- the sample size of people have two or more SibSp or three or more Parch is too small. Maybe it would be better to merge them into one category. "
   ]
  },
  {
   "cell_type": "markdown",
   "metadata": {},
   "source": [
    "**Take a closer look at Pclass and Sex combined.**"
   ]
  },
  {
   "cell_type": "code",
   "execution_count": 62,
   "metadata": {},
   "outputs": [
    {
     "data": {
      "text/plain": [
       "<matplotlib.axes._subplots.AxesSubplot at 0x7f1cdc27b748>"
      ]
     },
     "execution_count": 62,
     "metadata": {},
     "output_type": "execute_result"
    },
    {
     "data": {
      "image/png": "[encoded data removed]",
      "text/plain": [
       "<Figure size 720x216 with 2 Axes>"
      ]
     },
     "metadata": {
      "needs_background": "light"
     },
     "output_type": "display_data"
    }
   ],
   "source": [
    "fig, axes = plt.subplots(1, 2, figsize=(10, 3))\n",
    "sns.pointplot(x='Pclass', y='Survived', data=df_train, hue='Sex', ax=axes[0])\n",
    "sns.pointplot(x='Sex', y='Survived', data=df_train, hue='Pclass', ax=axes[1])"
   ]
  },
  {
   "cell_type": "markdown",
   "metadata": {},
   "source": [
    "- In all three classes, female had a higher survival rate than male, whereas in 3rd class the difference is much lower.\n",
    "- The survival rates of female in 1st and 2nd class are at a similarly high level (above 90%)\n",
    "- The survival rates of male in 2nd and 3rd class are at a similarly low level (around 10%)"
   ]
  },
  {
   "cell_type": "markdown",
   "metadata": {},
   "source": [
    "**How about Age and Fare?**"
   ]
  },
  {
   "cell_type": "code",
   "execution_count": 152,
   "metadata": {},
   "outputs": [
    {
     "data": {
      "image/png": "[encoded data removed]",
      "text/plain": [
       "<Figure size 720x216 with 2 Axes>"
      ]
     },
     "metadata": {
      "needs_background": "light"
     },
     "output_type": "display_data"
    }
   ],
   "source": [
    "# distribution plot of Age by Survived\n",
    "fig, axes = plt.subplots(1, 2, figsize=(10, 3))\n",
    "sns.distplot(df_train['Age'].dropna(axis=0), ax=axes[0], hist_kws={'alpha': 0.4}, label='all passengers', kde=False, bins=10)\n",
    "sns.distplot(df_train[df_train['Survived']==1]['Age'].dropna(axis=0), ax=axes[0], hist_kws={'alpha': 0.4}, label='survived', kde=False, bins=10)\n",
    "axes[0].legend()\n",
    "\n",
    "sns.distplot(df_train['Fare'].dropna(axis=0), ax=axes[1], hist_kws={'alpha': 0.4}, label='all passengers', kde=False, bins=4)\n",
    "sns.distplot(df_train[df_train['Survived']==1]['Fare'].dropna(axis=0), ax=axes[1], hist_kws={'alpha': 0.4}, label='survived', kde=False, bins=4)\n",
    "axes[1].legend()\n",
    "axes[1].set_yscale('log')"
   ]
  },
  {
   "cell_type": "markdown",
   "metadata": {},
   "source": [
    "- Passengers below 5 year old had higher much chance of survival\n",
    "- Passengers who paid a higher price tend to have higher chance of survival"
   ]
  },
  {
   "cell_type": "markdown",
   "metadata": {},
   "source": [
    "## Data cleaning and feature engineering"
   ]
  },
  {
   "cell_type": "markdown",
   "metadata": {},
   "source": [
    "- deal with missing data\n",
    "- feature transformation"
   ]
  },
  {
   "cell_type": "code",
   "execution_count": 6,
   "metadata": {
    "scrolled": true
   },
   "outputs": [
    {
     "name": "stdout",
     "output_type": "stream",
     "text": [
      "['gender_submission.csv', 'test.csv', 'train.csv']\n"
     ]
    },
    {
     "data": {
      "text/html": [
       "<div>\n",
       "<style scoped>\n",
       "    .dataframe tbody tr th:only-of-type {\n",
       "        vertical-align: middle;\n",
       "    }\n",
       "\n",
       "    .dataframe tbody tr th {\n",
       "        vertical-align: top;\n",
       "    }\n",
       "\n",
       "    .dataframe thead th {\n",
       "        text-align: right;\n",
       "    }\n",
       "</style>\n",
       "<table border=\"1\" class=\"dataframe\">\n",
       "  <thead>\n",
       "    <tr style=\"text-align: right;\">\n",
       "      <th></th>\n",
       "      <th>PassengerId</th>\n",
       "      <th>Survived</th>\n",
       "      <th>Pclass</th>\n",
       "      <th>Name</th>\n",
       "      <th>Sex</th>\n",
       "      <th>Age</th>\n",
       "      <th>SibSp</th>\n",
       "      <th>Parch</th>\n",
       "      <th>Ticket</th>\n",
       "      <th>Fare</th>\n",
       "      <th>Cabin</th>\n",
       "      <th>Embarked</th>\n",
       "    </tr>\n",
       "  </thead>\n",
       "  <tbody>\n",
       "    <tr>\n",
       "      <th>count</th>\n",
       "      <td>891.000000</td>\n",
       "      <td>891.000000</td>\n",
       "      <td>891.000000</td>\n",
       "      <td>891</td>\n",
       "      <td>891</td>\n",
       "      <td>891.000000</td>\n",
       "      <td>891.000000</td>\n",
       "      <td>891.000000</td>\n",
       "      <td>891</td>\n",
       "      <td>891.000000</td>\n",
       "      <td>204</td>\n",
       "      <td>891</td>\n",
       "    </tr>\n",
       "    <tr>\n",
       "      <th>unique</th>\n",
       "      <td>NaN</td>\n",
       "      <td>NaN</td>\n",
       "      <td>NaN</td>\n",
       "      <td>891</td>\n",
       "      <td>2</td>\n",
       "      <td>NaN</td>\n",
       "      <td>NaN</td>\n",
       "      <td>NaN</td>\n",
       "      <td>681</td>\n",
       "      <td>NaN</td>\n",
       "      <td>147</td>\n",
       "      <td>3</td>\n",
       "    </tr>\n",
       "    <tr>\n",
       "      <th>top</th>\n",
       "      <td>NaN</td>\n",
       "      <td>NaN</td>\n",
       "      <td>NaN</td>\n",
       "      <td>Canavan, Miss. Mary</td>\n",
       "      <td>male</td>\n",
       "      <td>NaN</td>\n",
       "      <td>NaN</td>\n",
       "      <td>NaN</td>\n",
       "      <td>347082</td>\n",
       "      <td>NaN</td>\n",
       "      <td>G6</td>\n",
       "      <td>S</td>\n",
       "    </tr>\n",
       "    <tr>\n",
       "      <th>freq</th>\n",
       "      <td>NaN</td>\n",
       "      <td>NaN</td>\n",
       "      <td>NaN</td>\n",
       "      <td>1</td>\n",
       "      <td>577</td>\n",
       "      <td>NaN</td>\n",
       "      <td>NaN</td>\n",
       "      <td>NaN</td>\n",
       "      <td>7</td>\n",
       "      <td>NaN</td>\n",
       "      <td>4</td>\n",
       "      <td>646</td>\n",
       "    </tr>\n",
       "    <tr>\n",
       "      <th>mean</th>\n",
       "      <td>446.000000</td>\n",
       "      <td>0.383838</td>\n",
       "      <td>2.308642</td>\n",
       "      <td>NaN</td>\n",
       "      <td>NaN</td>\n",
       "      <td>29.361582</td>\n",
       "      <td>0.523008</td>\n",
       "      <td>0.381594</td>\n",
       "      <td>NaN</td>\n",
       "      <td>32.204208</td>\n",
       "      <td>NaN</td>\n",
       "      <td>NaN</td>\n",
       "    </tr>\n",
       "    <tr>\n",
       "      <th>std</th>\n",
       "      <td>257.353842</td>\n",
       "      <td>0.486592</td>\n",
       "      <td>0.836071</td>\n",
       "      <td>NaN</td>\n",
       "      <td>NaN</td>\n",
       "      <td>13.019697</td>\n",
       "      <td>1.102743</td>\n",
       "      <td>0.806057</td>\n",
       "      <td>NaN</td>\n",
       "      <td>49.693429</td>\n",
       "      <td>NaN</td>\n",
       "      <td>NaN</td>\n",
       "    </tr>\n",
       "    <tr>\n",
       "      <th>min</th>\n",
       "      <td>1.000000</td>\n",
       "      <td>0.000000</td>\n",
       "      <td>1.000000</td>\n",
       "      <td>NaN</td>\n",
       "      <td>NaN</td>\n",
       "      <td>0.420000</td>\n",
       "      <td>0.000000</td>\n",
       "      <td>0.000000</td>\n",
       "      <td>NaN</td>\n",
       "      <td>0.000000</td>\n",
       "      <td>NaN</td>\n",
       "      <td>NaN</td>\n",
       "    </tr>\n",
       "    <tr>\n",
       "      <th>25%</th>\n",
       "      <td>223.500000</td>\n",
       "      <td>0.000000</td>\n",
       "      <td>2.000000</td>\n",
       "      <td>NaN</td>\n",
       "      <td>NaN</td>\n",
       "      <td>22.000000</td>\n",
       "      <td>0.000000</td>\n",
       "      <td>0.000000</td>\n",
       "      <td>NaN</td>\n",
       "      <td>7.910400</td>\n",
       "      <td>NaN</td>\n",
       "      <td>NaN</td>\n",
       "    </tr>\n",
       "    <tr>\n",
       "      <th>50%</th>\n",
       "      <td>446.000000</td>\n",
       "      <td>0.000000</td>\n",
       "      <td>3.000000</td>\n",
       "      <td>NaN</td>\n",
       "      <td>NaN</td>\n",
       "      <td>28.000000</td>\n",
       "      <td>0.000000</td>\n",
       "      <td>0.000000</td>\n",
       "      <td>NaN</td>\n",
       "      <td>14.454200</td>\n",
       "      <td>NaN</td>\n",
       "      <td>NaN</td>\n",
       "    </tr>\n",
       "    <tr>\n",
       "      <th>75%</th>\n",
       "      <td>668.500000</td>\n",
       "      <td>1.000000</td>\n",
       "      <td>3.000000</td>\n",
       "      <td>NaN</td>\n",
       "      <td>NaN</td>\n",
       "      <td>35.000000</td>\n",
       "      <td>1.000000</td>\n",
       "      <td>0.000000</td>\n",
       "      <td>NaN</td>\n",
       "      <td>31.000000</td>\n",
       "      <td>NaN</td>\n",
       "      <td>NaN</td>\n",
       "    </tr>\n",
       "    <tr>\n",
       "      <th>max</th>\n",
       "      <td>891.000000</td>\n",
       "      <td>1.000000</td>\n",
       "      <td>3.000000</td>\n",
       "      <td>NaN</td>\n",
       "      <td>NaN</td>\n",
       "      <td>80.000000</td>\n",
       "      <td>8.000000</td>\n",
       "      <td>6.000000</td>\n",
       "      <td>NaN</td>\n",
       "      <td>512.329200</td>\n",
       "      <td>NaN</td>\n",
       "      <td>NaN</td>\n",
       "    </tr>\n",
       "  </tbody>\n",
       "</table>\n",
       "</div>"
      ],
      "text/plain": [
       "        PassengerId    Survived      Pclass                 Name   Sex  \\\n",
       "count    891.000000  891.000000  891.000000                  891   891   \n",
       "unique          NaN         NaN         NaN                  891     2   \n",
       "top             NaN         NaN         NaN  Canavan, Miss. Mary  male   \n",
       "freq            NaN         NaN         NaN                    1   577   \n",
       "mean     446.000000    0.383838    2.308642                  NaN   NaN   \n",
       "std      257.353842    0.486592    0.836071                  NaN   NaN   \n",
       "min        1.000000    0.000000    1.000000                  NaN   NaN   \n",
       "25%      223.500000    0.000000    2.000000                  NaN   NaN   \n",
       "50%      446.000000    0.000000    3.000000                  NaN   NaN   \n",
       "75%      668.500000    1.000000    3.000000                  NaN   NaN   \n",
       "max      891.000000    1.000000    3.000000                  NaN   NaN   \n",
       "\n",
       "               Age       SibSp       Parch  Ticket        Fare Cabin Embarked  \n",
       "count   891.000000  891.000000  891.000000     891  891.000000   204      891  \n",
       "unique         NaN         NaN         NaN     681         NaN   147        3  \n",
       "top            NaN         NaN         NaN  347082         NaN    G6        S  \n",
       "freq           NaN         NaN         NaN       7         NaN     4      646  \n",
       "mean     29.361582    0.523008    0.381594     NaN   32.204208   NaN      NaN  \n",
       "std      13.019697    1.102743    0.806057     NaN   49.693429   NaN      NaN  \n",
       "min       0.420000    0.000000    0.000000     NaN    0.000000   NaN      NaN  \n",
       "25%      22.000000    0.000000    0.000000     NaN    7.910400   NaN      NaN  \n",
       "50%      28.000000    0.000000    0.000000     NaN   14.454200   NaN      NaN  \n",
       "75%      35.000000    1.000000    0.000000     NaN   31.000000   NaN      NaN  \n",
       "max      80.000000    8.000000    6.000000     NaN  512.329200   NaN      NaN  "
      ]
     },
     "execution_count": 6,
     "metadata": {},
     "output_type": "execute_result"
    }
   ],
   "source": [
    "# missing value in column Age (177/891), Cabin (687/891) and Embarked (2/891)\n",
    "data_dir = 'data/titanic/'\n",
    "print(os.listdir(data_dir))\n",
    "\n",
    "train_file = data_dir + 'train.csv'\n",
    "test_file = data_dir + 'test.csv'\n",
    "\n",
    "df_train = pd.read_csv(train_file)\n",
    "df_test = pd.read_csv(test_file)\n",
    "\n",
    "def clean_df(df):\n",
    "    df['Age'] = df['Age'].fillna(df_train['Age'].median())\n",
    "    df['Embarked'] = df['Embarked'].fillna(df_train['Embarked'].mode()[0])\n",
    "    df['Fare'] = df['Fare'].fillna(df_train['Fare'].median())\n",
    "    return df\n",
    "    \n",
    "df_train = clean_df(df_train)\n",
    "df_test = clean_df(df_test)\n",
    "df_train.describe(include='all')"
   ]
  },
  {
   "cell_type": "markdown",
   "metadata": {},
   "source": [
    "## Baseline model\n",
    "\n",
    "We start with a simple logistic model with features Pclass, Sex, Embarked, Age, SibSp, Parch, Fare. "
   ]
  },
  {
   "cell_type": "markdown",
   "metadata": {},
   "source": [
    "Before applying the model, we need to transform categorical variables using One-Hot-Encoding. Also we use StandardScaler to see feature significance."
   ]
  },
  {
   "cell_type": "code",
   "execution_count": 295,
   "metadata": {},
   "outputs": [
    {
     "data": {
      "text/plain": [
       "((891, 9),\n",
       " (891,),\n",
       " (418, 9),\n",
       " (891, 9),\n",
       " (418, 9),\n",
       " ['Pclass_2',\n",
       "  'Pclass_3',\n",
       "  'Sex_male',\n",
       "  'Embarked_Q',\n",
       "  'Embarked_S',\n",
       "  'Age',\n",
       "  'SibSp',\n",
       "  'Parch',\n",
       "  'Fare'])"
      ]
     },
     "execution_count": 295,
     "metadata": {},
     "output_type": "execute_result"
    }
   ],
   "source": [
    "cat_features = ['Pclass', 'Sex', 'Embarked']\n",
    "num_features = ['Age', 'SibSp', 'Parch', 'Fare']\n",
    "\n",
    "\n",
    "ohe = OneHotEncoder(categories='auto', drop='first', sparse=False)\n",
    "scaler = StandardScaler()\n",
    "\n",
    "X_train = np.hstack((ohe.fit_transform(df_train[cat_features]), df_train[num_features]))\n",
    "y_train = df_train['Survived'].values\n",
    "X_test = np.hstack((ohe.transform(df_test[cat_features]), df_test[num_features]))\n",
    "\n",
    "features = list(ohe.get_feature_names(cat_features)) + num_features\n",
    "\n",
    "X_train_scaled = scaler.fit_transform(X_train)\n",
    "X_test_scaled = scaler.transform(X_test)\n",
    "\n",
    "X_train.shape, y_train.shape, X_test.shape, X_train_scaled.shape, X_test_scaled.shape, features"
   ]
  },
  {
   "cell_type": "code",
   "execution_count": 311,
   "metadata": {},
   "outputs": [
    {
     "name": "stdout",
     "output_type": "stream",
     "text": [
      "LogisticRegression(C=1.0, class_weight=None, dual=False, fit_intercept=True,\n",
      "                   intercept_scaling=1, l1_ratio=None, max_iter=100,\n",
      "                   multi_class='warn', n_jobs=None, penalty='l2',\n",
      "                   random_state=100, solver='warn', tol=0.0001, verbose=0,\n",
      "                   warm_start=False)\n",
      "cv_score: 0.7901868119826072 0.021227380282388637\n",
      "feature importance:\n",
      "                coef1  abs_coef1\n",
      "Sex_male   -1.282124   1.282124\n",
      "Pclass_3   -1.036406   1.036406\n",
      "Age        -0.486679   0.486679\n",
      "Pclass_2   -0.351708   0.351708\n",
      "SibSp      -0.346460   0.346460\n",
      "Embarked_S -0.194209   0.194209\n",
      "Fare        0.126957   0.126957\n",
      "Parch      -0.074927   0.074927\n",
      "Embarked_Q -0.017280   0.017280\n",
      "CPU times: user 22.5 ms, sys: 2.5 ms, total: 25 ms\n",
      "Wall time: 47.4 ms\n"
     ]
    },
    {
     "name": "stderr",
     "output_type": "stream",
     "text": [
      "/opt/conda/lib/python3.6/site-packages/sklearn/linear_model/logistic.py:432: FutureWarning: Default solver will be changed to 'lbfgs' in 0.22. Specify a solver to silence this warning.\n",
      "  FutureWarning)\n"
     ]
    }
   ],
   "source": [
    "%%time\n",
    "\n",
    "model = LogisticRegression(random_state=100, C=1.0)  # default C = 1.0\n",
    "\n",
    "cv_score = cross_val_score(model, X_train_scaled, y_train, cv=5, n_jobs=-1)\n",
    "print(model)\n",
    "print(\"cv_score:\", cv_score.mean(), cv_score.std())  \n",
    "\n",
    "model.fit(X_train_scaled, y_train)\n",
    "\n",
    "y_pred = model.predict(X_test_scaled)  \n",
    "# make_submission_file(y_pred=y_pred)\n",
    "\n",
    "# feature importance\n",
    "df_feature = pd.DataFrame({'coef1': model.coef_[0], 'abs_coef1': abs(model.coef_[0])}, index=features).sort_values('abs_coef1', ascending=False)\n",
    "print(\"feature importance:\\n\", df_feature)"
   ]
  },
  {
   "cell_type": "markdown",
   "metadata": {},
   "source": [
    "We can see that top features are Sex, Pclass and Age, as we expected."
   ]
  },
  {
   "cell_type": "markdown",
   "metadata": {},
   "source": [
    "**Logit with GridSearchCV on C**"
   ]
  },
  {
   "cell_type": "code",
   "execution_count": 312,
   "metadata": {
    "scrolled": false
   },
   "outputs": [
    {
     "name": "stdout",
     "output_type": "stream",
     "text": [
      "Fitting 5 folds for each of 20 candidates, totalling 100 fits\n"
     ]
    },
    {
     "name": "stderr",
     "output_type": "stream",
     "text": [
      "[Parallel(n_jobs=-1)]: Using backend LokyBackend with 2 concurrent workers.\n"
     ]
    },
    {
     "name": "stdout",
     "output_type": "stream",
     "text": [
      "LogisticRegression(C=0.01, class_weight=None, dual=False, fit_intercept=True,\n",
      "                   intercept_scaling=1, l1_ratio=None, max_iter=100,\n",
      "                   multi_class='warn', n_jobs=None, penalty='l2',\n",
      "                   random_state=100, solver='lbfgs', tol=0.0001, verbose=0,\n",
      "                   warm_start=False)\n",
      "cv_score: 0.8036133934939057 0.016412650116930515\n",
      "feature importance:\n",
      "                coef1  abs_coef1\n",
      "Sex_male   -0.725512   0.725512\n",
      "Pclass_3   -0.397591   0.397591\n",
      "Fare        0.208973   0.208973\n",
      "Age        -0.167667   0.167667\n",
      "Embarked_S -0.152055   0.152055\n",
      "SibSp      -0.131399   0.131399\n",
      "Embarked_Q -0.007896   0.007896\n",
      "Parch      -0.003462   0.003462\n",
      "Pclass_2   -0.002303   0.002303\n",
      "CPU times: user 92.7 ms, sys: 847 µs, total: 93.6 ms\n",
      "Wall time: 309 ms\n"
     ]
    },
    {
     "name": "stderr",
     "output_type": "stream",
     "text": [
      "[Parallel(n_jobs=-1)]: Done 100 out of 100 | elapsed:    0.3s finished\n"
     ]
    }
   ],
   "source": [
    "%%time\n",
    "\n",
    "param = {'C': np.logspace(-2, 1, 20)}\n",
    "\n",
    "gs = GridSearchCV(LogisticRegression(random_state=100, solver='lbfgs'),\n",
    "                     param_grid=param,\n",
    "                     cv=5,\n",
    "                     n_jobs=-1,\n",
    "                     verbose=True\n",
    "                    )\n",
    "\n",
    "gs.fit(X_train_scaled, y_train)\n",
    "\n",
    "\n",
    "model = gs.best_estimator_\n",
    "\n",
    "cv_score = cross_val_score(model, X_train_scaled, y_train, cv=5, n_jobs=-1)\n",
    "print(model)\n",
    "print(\"cv_score:\", cv_score.mean(), cv_score.std())  \n",
    "\n",
    "model.fit(X_train_scaled, y_train)\n",
    "\n",
    "y_pred = model.predict(X_test_scaled)  \n",
    "# make_submission_file(y_pred=y_pred)\n",
    "\n",
    "# feature importance\n",
    "df_feature = pd.DataFrame({'coef1': model.coef_[0], 'abs_coef1': abs(model.coef_[0])}, index=features).sort_values('abs_coef1', ascending=False)\n",
    "print(\"feature importance:\\n\", df_feature)"
   ]
  },
  {
   "cell_type": "markdown",
   "metadata": {},
   "source": [
    "PL score of 0.76076 is an improvement from the previous submission of 0.75598. As expected, applying a higher regularization (smaller C) helps with the predictive power of the model. "
   ]
  },
  {
   "cell_type": "markdown",
   "metadata": {},
   "source": [
    "Same as default Logit model, we can see that top features are Sex and Pclass, then comes Fare, Age, Embarked_S, SibSp."
   ]
  },
  {
   "cell_type": "markdown",
   "metadata": {},
   "source": [
    "**Random Forest**"
   ]
  },
  {
   "cell_type": "code",
   "execution_count": 316,
   "metadata": {},
   "outputs": [
    {
     "name": "stdout",
     "output_type": "stream",
     "text": [
      "RandomForestClassifier(bootstrap=True, class_weight=None, criterion='gini',\n",
      "                       max_depth=None, max_features='auto', max_leaf_nodes=None,\n",
      "                       min_impurity_decrease=0.0, min_impurity_split=None,\n",
      "                       min_samples_leaf=1, min_samples_split=2,\n",
      "                       min_weight_fraction_leaf=0.0, n_estimators=100,\n",
      "                       n_jobs=None, oob_score=False, random_state=100,\n",
      "                       verbose=0, warm_start=False)\n",
      "cv_score: 0.8159918461926381 0.028577270144081176\n",
      "feature importance:\n",
      "                coef1  abs_coef1\n",
      "Fare        0.267395   0.267395\n",
      "Sex_male    0.264018   0.264018\n",
      "Age         0.263066   0.263066\n",
      "Pclass_3    0.070087   0.070087\n",
      "SibSp       0.045951   0.045951\n",
      "Parch       0.038514   0.038514\n",
      "Embarked_S  0.022835   0.022835\n",
      "Pclass_2    0.017918   0.017918\n",
      "Embarked_Q  0.010216   0.010216\n"
     ]
    }
   ],
   "source": [
    "# try default setting\n",
    "model = RandomForestClassifier(n_estimators=100, random_state=100)\n",
    "\n",
    "cv_score = cross_val_score(model, X_train_scaled, y_train, cv=5, n_jobs=-1)\n",
    "print(model)\n",
    "print(\"cv_score:\", cv_score.mean(), cv_score.std())  \n",
    "\n",
    "model.fit(X_train_scaled, y_train)\n",
    "\n",
    "y_pred = model.predict(X_test_scaled)  \n",
    "# make_submission_file(y_pred=y_pred)\n",
    "\n",
    "# feature importance\n",
    "df_feature = pd.DataFrame({'coef1': model.feature_importances_, 'abs_coef1': abs(model.feature_importances_)}, index=features).sort_values('abs_coef1', ascending=False)\n",
    "print(\"feature importance:\\n\", df_feature)"
   ]
  },
  {
   "cell_type": "markdown",
   "metadata": {},
   "source": [
    "Now RF with parameters tuning"
   ]
  },
  {
   "cell_type": "code",
   "execution_count": 322,
   "metadata": {
    "scrolled": true
   },
   "outputs": [
    {
     "name": "stdout",
     "output_type": "stream",
     "text": [
      "Fitting 5 folds for each of 240 candidates, totalling 1200 fits\n"
     ]
    },
    {
     "name": "stderr",
     "output_type": "stream",
     "text": [
      "[Parallel(n_jobs=-1)]: Using backend LokyBackend with 2 concurrent workers.\n",
      "[Parallel(n_jobs=-1)]: Done  83 tasks      | elapsed:    5.1s\n",
      "[Parallel(n_jobs=-1)]: Done 683 tasks      | elapsed:   42.0s\n",
      "[Parallel(n_jobs=-1)]: Done 1200 out of 1200 | elapsed:  1.3min finished\n"
     ]
    },
    {
     "name": "stdout",
     "output_type": "stream",
     "text": [
      "RandomForestClassifier(bootstrap=True, class_weight=None, criterion='gini',\n",
      "                       max_depth=15, max_features='auto', max_leaf_nodes=None,\n",
      "                       min_impurity_decrease=0.0, min_impurity_split=None,\n",
      "                       min_samples_leaf=3, min_samples_split=5,\n",
      "                       min_weight_fraction_leaf=0.0, n_estimators=55,\n",
      "                       n_jobs=None, oob_score=False, random_state=100,\n",
      "                       verbose=0, warm_start=False)\n",
      "cv_score: 0.8350807702851315 0.025340947497630814\n",
      "feature importance:\n",
      "                coef1  abs_coef1\n",
      "Sex_male    0.384074   0.384074\n",
      "Fare        0.237656   0.237656\n",
      "Age         0.161750   0.161750\n",
      "Pclass_3    0.090710   0.090710\n",
      "SibSp       0.043568   0.043568\n",
      "Parch       0.031326   0.031326\n",
      "Embarked_S  0.021969   0.021969\n",
      "Pclass_2    0.021439   0.021439\n",
      "Embarked_Q  0.007509   0.007509\n",
      "CPU times: user 1.9 s, sys: 47.9 ms, total: 1.94 s\n",
      "Wall time: 1min 16s\n"
     ]
    }
   ],
   "source": [
    "%%time\n",
    "\n",
    "param = { 'n_estimators': np.linspace(10, 100, 5).astype(int),\n",
    "#             'max_features': [4, 7, 10, 13], \n",
    "              'min_samples_leaf': [1, 3, 5, 7], \n",
    "              'min_samples_split':[5, 10, 20],\n",
    "              'max_depth': [5, 10, 15, 20]\n",
    "        }\n",
    "\n",
    "\n",
    "gs = GridSearchCV(RandomForestClassifier(random_state=100),\n",
    "                     param_grid=param,\n",
    "                     cv=5,\n",
    "                     n_jobs=-1,\n",
    "                     verbose=True\n",
    "                    )\n",
    "\n",
    "gs.fit(X_train_scaled, y_train)\n",
    "\n",
    "model = gs.best_estimator_\n",
    "\n",
    "cv_score = cross_val_score(model, X_train_scaled, y_train, cv=5, n_jobs=-1)\n",
    "print(model)\n",
    "print(\"cv_score:\", cv_score.mean(), cv_score.std())  \n",
    "\n",
    "model.fit(X_train_scaled, y_train)\n",
    "\n",
    "y_pred = model.predict(X_test_scaled)  \n",
    "# make_submission_file(y_pred=y_pred)\n",
    "\n",
    "# feature importance\n",
    "df_feature = pd.DataFrame({'coef1': model.feature_importances_, 'abs_coef1': abs(model.feature_importances_)}, index=features).sort_values('abs_coef1', ascending=False)\n",
    "print(\"feature importance:\\n\", df_feature)"
   ]
  },
  {
   "cell_type": "markdown",
   "metadata": {},
   "source": [
    "PL score 0.76555"
   ]
  },
  {
   "cell_type": "markdown",
   "metadata": {},
   "source": [
    "RF result is a bit higher than Logit but comes with higher stdev"
   ]
  },
  {
   "cell_type": "markdown",
   "metadata": {},
   "source": [
    "From the RF model, we can see that Fare replaced Pclass as a more significant feature. One explaination can be potential correlation between Pclass and Fare. **We might consider some feature transformation on Fare**"
   ]
  },
  {
   "cell_type": "markdown",
   "metadata": {},
   "source": [
    "**KNN**"
   ]
  },
  {
   "cell_type": "code",
   "execution_count": 326,
   "metadata": {},
   "outputs": [
    {
     "name": "stdout",
     "output_type": "stream",
     "text": [
      "Fitting 5 folds for each of 10 candidates, totalling 50 fits\n"
     ]
    },
    {
     "name": "stderr",
     "output_type": "stream",
     "text": [
      "[Parallel(n_jobs=-1)]: Using backend LokyBackend with 2 concurrent workers.\n",
      "[Parallel(n_jobs=-1)]: Done  50 out of  50 | elapsed:    0.2s finished\n"
     ]
    },
    {
     "name": "stdout",
     "output_type": "stream",
     "text": [
      "KNeighborsClassifier(algorithm='auto', leaf_size=30, metric='minkowski',\n",
      "                     metric_params=None, n_jobs=None, n_neighbors=28, p=2,\n",
      "                     weights='uniform')\n",
      "cv_score: 0.8058668615750056 0.014030389791597979\n",
      "CPU times: user 85.2 ms, sys: 366 µs, total: 85.6 ms\n",
      "Wall time: 259 ms\n"
     ]
    }
   ],
   "source": [
    "%%time\n",
    "\n",
    "param = {'n_neighbors': np.linspace(2, 50, 10).astype(int)}\n",
    "\n",
    "gs = GridSearchCV(KNeighborsClassifier(),\n",
    "                     param_grid=param,\n",
    "                     scoring='roc_auc',\n",
    "                     cv=5,\n",
    "                     n_jobs=-1,\n",
    "                     verbose=True\n",
    "                    )\n",
    "\n",
    "gs.fit(X_train_scaled, y_train)\n",
    "\n",
    "model = gs.best_estimator_\n",
    "\n",
    "cv_score = cross_val_score(model, X_train_scaled, y_train, cv=5, n_jobs=-1)\n",
    "print(model)\n",
    "print(\"cv_score:\", cv_score.mean(), cv_score.std())  \n",
    "\n",
    "model.fit(X_train_scaled, y_train)\n",
    "\n",
    "y_pred = model.predict(X_test_scaled)  \n",
    "# make_submission_file(y_pred=y_pred)\n",
    "\n",
    "# feature importance-> no feature importance for KNN\n",
    "# df_feature = pd.DataFrame({'coef1': model.feature_importances_, 'abs_coef1': abs(model.feature_importances_)}, index=features).sort_values('abs_coef1', ascending=False)\n",
    "# print(\"feature importance:\\n\", df_feature)"
   ]
  },
  {
   "cell_type": "markdown",
   "metadata": {},
   "source": [
    "PL score: 0.76555, so far the highest score."
   ]
  },
  {
   "cell_type": "markdown",
   "metadata": {},
   "source": [
    "**XGBOOST**\n"
   ]
  },
  {
   "cell_type": "code",
   "execution_count": 328,
   "metadata": {
    "scrolled": true
   },
   "outputs": [
    {
     "name": "stdout",
     "output_type": "stream",
     "text": [
      "XGBClassifier(base_score=0.5, booster='gbtree', colsample_bylevel=1,\n",
      "              colsample_bynode=1, colsample_bytree=1, gamma=0,\n",
      "              learning_rate=0.1, max_delta_step=0, max_depth=3,\n",
      "              min_child_weight=1, missing=None, n_estimators=100, n_jobs=1,\n",
      "              nthread=None, objective='binary:logistic', random_state=0,\n",
      "              reg_alpha=0, reg_lambda=1, scale_pos_weight=1, seed=None,\n",
      "              silent=None, subsample=1, verbosity=1)\n",
      "cv_score: 0.826079310245774 0.016621056984328825\n",
      "feature importance:\n",
      "                coef1  abs_coef1\n",
      "Sex_male    0.543216   0.543216\n",
      "Pclass_3    0.211208   0.211208\n",
      "SibSp       0.058878   0.058878\n",
      "Embarked_S  0.055549   0.055549\n",
      "Fare        0.041465   0.041465\n",
      "Age         0.034435   0.034435\n",
      "Pclass_2    0.026812   0.026812\n",
      "Embarked_Q  0.015238   0.015238\n",
      "Parch       0.013199   0.013199\n",
      "CPU times: user 73.5 ms, sys: 2.39 ms, total: 75.9 ms\n",
      "Wall time: 216 ms\n"
     ]
    }
   ],
   "source": [
    "%%time\n",
    "\n",
    "# fit model no training data\n",
    "model = XGBClassifier()\n",
    "\n",
    "cv_score = cross_val_score(model, X_train_scaled, y_train, cv=5, n_jobs=-1)\n",
    "print(model)\n",
    "print(\"cv_score:\", cv_score.mean(), cv_score.std())  \n",
    "\n",
    "model.fit(X_train_scaled, y_train)\n",
    "\n",
    "y_pred = model.predict(X_test_scaled)  \n",
    "# make_submission_file(y_pred=y_pred)\n",
    "\n",
    "# feature importance-> no feature importance for KNN\n",
    "df_feature = pd.DataFrame({'coef1': model.feature_importances_, 'abs_coef1': abs(model.feature_importances_)}, index=features).sort_values('abs_coef1', ascending=False)\n",
    "print(\"feature importance:\\n\", df_feature)"
   ]
  },
  {
   "cell_type": "markdown",
   "metadata": {},
   "source": [
    "Most important features are Sex and PClass!"
   ]
  },
  {
   "cell_type": "markdown",
   "metadata": {},
   "source": [
    "## More Feature Engineering\n",
    "\n",
    "In order to improve performance, we should try more feature engineering rather than tuning Models. \n",
    "We get some ideas from this [blog](https://zhuanlan.zhihu.com/p/31743196).\n",
    "\n",
    "- Cabin data  -> Cabin section + number\n",
    "- Binning Age\n",
    "- Extract Name Title, Name length\n",
    "- Log transfor Fare\n",
    "- Consider keep Pclass as numerical\n",
    "\n",
    "**Used Spyder for this part of coding**"
   ]
  },
  {
   "cell_type": "code",
   "execution_count": 216,
   "metadata": {},
   "outputs": [],
   "source": [
    "# see data_cleaning.py"
   ]
  },
  {
   "cell_type": "markdown",
   "metadata": {},
   "source": [
    "# Another round of modeling \n",
    "\n",
    "using data with new features"
   ]
  },
  {
   "cell_type": "code",
   "execution_count": 8,
   "metadata": {},
   "outputs": [],
   "source": [
    "# load cleaned data\n",
    "df_train = pd.read_csv('data/df_train_clean.csv')\n",
    "df_test = pd.read_csv('data/df_test_clean.csv')"
   ]
  },
  {
   "cell_type": "code",
   "execution_count": 9,
   "metadata": {
    "scrolled": true
   },
   "outputs": [
    {
     "data": {
      "text/plain": [
       "Index(['PassengerId', 'Survived', 'Pclass', 'Name', 'Sex', 'Age', 'SibSp',\n",
       "       'Parch', 'Ticket', 'Fare', 'Cabin', 'Embarked', 'cabin_section',\n",
       "       'cabin_number', 'Age_group', 'Fare_log', 'Fare_zero', 'name_len',\n",
       "       'name_title', 'name_title_Master.', 'name_title_Don.',\n",
       "       'name_title_Rev.', 'name_title_Dr.', 'name_title_Mme.',\n",
       "       'name_title_Major.', 'name_title_Lady.', 'name_title_Sir.',\n",
       "       'name_title_Mlle.', 'name_title_Col.', 'name_title_Capt.', 'family'],\n",
       "      dtype='object')"
      ]
     },
     "execution_count": 9,
     "metadata": {},
     "output_type": "execute_result"
    }
   ],
   "source": [
    "df_train.columns"
   ]
  },
  {
   "cell_type": "code",
   "execution_count": 10,
   "metadata": {},
   "outputs": [
    {
     "data": {
      "text/plain": [
       "((891, 18),\n",
       " (891,),\n",
       " (418, 18),\n",
       " (891, 18),\n",
       " (418, 18),\n",
       " ['Pclass_2',\n",
       "  'Pclass_3',\n",
       "  'Sex_male',\n",
       "  'Embarked_Q',\n",
       "  'Embarked_S',\n",
       "  'Age_group_kid (0-6)',\n",
       "  'Age_group_teenager (6-18)',\n",
       "  'cabin_section',\n",
       "  'family',\n",
       "  'Fare_log',\n",
       "  'Fare_zero',\n",
       "  'name_title_Master.',\n",
       "  'name_title_Col.',\n",
       "  'name_title_Capt.',\n",
       "  'name_title_Don.',\n",
       "  'name_title_Rev.',\n",
       "  'name_title_Dr.',\n",
       "  'name_title_Major.'])"
      ]
     },
     "execution_count": 10,
     "metadata": {},
     "output_type": "execute_result"
    }
   ],
   "source": [
    "# select features and transformation\n",
    "\n",
    "cat_features = ['Pclass', 'Sex', 'Embarked', 'Age_group', ]\n",
    "name_title_cols = ['name_title_Master.', 'name_title_Don.', 'name_title_Rev.',\n",
    "                   'name_title_Dr.', 'name_title_Mme.', 'name_title_Major.',\n",
    "                   'name_title_Lady.', 'name_title_Sir.', 'name_title_Mlle.',\n",
    "                   'name_title_Col.', 'name_title_Capt.']\n",
    "# num_features = ['Pclass', 'Age', 'SibSp', 'Parch', 'Fare_log', 'cabin_number', 'name_len'] + name_title_cols\n",
    "num_features = ['cabin_section', 'family', 'Fare_log', 'Fare_zero',  'name_title_Master.', 'name_title_Col.', 'name_title_Capt.', 'name_title_Don.', 'name_title_Rev.',\n",
    "                   'name_title_Dr.', 'name_title_Major.'] \n",
    "\n",
    "\n",
    "ohe = OneHotEncoder(categories='auto', drop='first', sparse=False)\n",
    "scaler = StandardScaler()\n",
    "\n",
    "X_train = np.hstack((ohe.fit_transform(df_train[cat_features]), df_train[num_features]))\n",
    "y_train = df_train['Survived'].values\n",
    "X_test = np.hstack((ohe.transform(df_test[cat_features]), df_test[num_features]))\n",
    "\n",
    "features = ohe.get_feature_names(cat_features).tolist() + num_features\n",
    "\n",
    "X_train_scaled = scaler.fit_transform(X_train)\n",
    "X_test_scaled = scaler.transform(X_test)\n",
    "\n",
    "X_train.shape, y_train.shape, X_test.shape, X_train_scaled.shape, X_test_scaled.shape, features"
   ]
  },
  {
   "cell_type": "markdown",
   "metadata": {},
   "source": [
    "**Logit**"
   ]
  },
  {
   "cell_type": "code",
   "execution_count": 22,
   "metadata": {
    "scrolled": false
   },
   "outputs": [
    {
     "name": "stdout",
     "output_type": "stream",
     "text": [
      "Fitting 5 folds for each of 20 candidates, totalling 100 fits\n"
     ]
    },
    {
     "name": "stderr",
     "output_type": "stream",
     "text": [
      "[Parallel(n_jobs=-1)]: Using backend LokyBackend with 2 concurrent workers.\n"
     ]
    },
    {
     "name": "stdout",
     "output_type": "stream",
     "text": [
      "LogisticRegression(C=0.08858667904100823, class_weight=None, dual=False,\n",
      "                   fit_intercept=True, intercept_scaling=1, l1_ratio=None,\n",
      "                   max_iter=100, multi_class='warn', n_jobs=None, penalty='l2',\n",
      "                   random_state=100, solver='lbfgs', tol=0.0001, verbose=0,\n",
      "                   warm_start=False)\n",
      "cv_score: 0.828326643111696 0.017928002491150077\n",
      "feature importance:\n",
      "                               coef1  abs_coef1\n",
      "Sex_male                  -1.318214   1.318214\n",
      "family                    -0.581455   0.581455\n",
      "name_title_Master.         0.534688   0.534688\n",
      "Pclass_3                  -0.399721   0.399721\n",
      "cabin_section              0.329659   0.329659\n",
      "Fare_log                   0.288083   0.288083\n",
      "Embarked_S                -0.194098   0.194098\n",
      "name_title_Rev.           -0.183102   0.183102\n",
      "Age_group_kid (0-6)        0.151532   0.151532\n",
      "name_title_Don.           -0.087428   0.087428\n",
      "name_title_Capt.          -0.085068   0.085068\n",
      "Age_group_teenager (6-18)  0.072668   0.072668\n",
      "Fare_zero                 -0.058813   0.058813\n",
      "Pclass_2                   0.040638   0.040638\n",
      "Embarked_Q                -0.037419   0.037419\n",
      "name_title_Col.            0.025158   0.025158\n",
      "name_title_Major.          0.018390   0.018390\n",
      "name_title_Dr.             0.016013   0.016013\n",
      "CPU times: user 187 ms, sys: 40.4 ms, total: 227 ms\n",
      "Wall time: 2.04 s\n"
     ]
    },
    {
     "name": "stderr",
     "output_type": "stream",
     "text": [
      "[Parallel(n_jobs=-1)]: Done 100 out of 100 | elapsed:    1.9s finished\n"
     ]
    }
   ],
   "source": [
    "%%time\n",
    "\n",
    "param = {'C': np.logspace(-2, 1, 20)}\n",
    "\n",
    "gs = GridSearchCV(LogisticRegression(random_state=100, solver='lbfgs'),\n",
    "                     param_grid=param,\n",
    "                     cv=5,\n",
    "                     n_jobs=-1,\n",
    "                     verbose=True\n",
    "                    )\n",
    "\n",
    "gs.fit(X_train_scaled, y_train)\n",
    "\n",
    "model = gs.best_estimator_\n",
    "\n",
    "cv_score = cross_val_score(model, X_train_scaled, y_train, cv=5, n_jobs=-1)\n",
    "print(model)\n",
    "print(\"cv_score:\", cv_score.mean(), cv_score.std())  \n",
    "\n",
    "model.fit(X_train_scaled, y_train)\n",
    "\n",
    "y_pred = model.predict(X_test_scaled)  \n",
    "# make_submission_file(y_pred=y_pred)\n",
    "\n",
    "# feature importance\n",
    "df_feature = pd.DataFrame({'coef1': model.coef_[0], 'abs_coef1': abs(model.coef_[0])}, index=features).sort_values('abs_coef1', ascending=False)\n",
    "print(\"feature importance:\\n\", df_feature)"
   ]
  },
  {
   "cell_type": "markdown",
   "metadata": {},
   "source": [
    "**RF**"
   ]
  },
  {
   "cell_type": "code",
   "execution_count": 336,
   "metadata": {},
   "outputs": [
    {
     "name": "stdout",
     "output_type": "stream",
     "text": [
      "Fitting 5 folds for each of 240 candidates, totalling 1200 fits\n"
     ]
    },
    {
     "name": "stderr",
     "output_type": "stream",
     "text": [
      "[Parallel(n_jobs=-1)]: Using backend LokyBackend with 2 concurrent workers.\n",
      "[Parallel(n_jobs=-1)]: Done 256 tasks      | elapsed:   15.4s\n",
      "[Parallel(n_jobs=-1)]: Done 572 tasks      | elapsed:   42.4s\n",
      "[Parallel(n_jobs=-1)]: Done 1006 tasks      | elapsed:  1.3min\n",
      "[Parallel(n_jobs=-1)]: Done 1200 out of 1200 | elapsed:  1.5min finished\n",
      "/opt/conda/lib/python3.6/site-packages/sklearn/model_selection/_search.py:814: DeprecationWarning: The default of the `iid` parameter will change from True to False in version 0.22 and will be removed in 0.24. This will change numeric results when test-set sizes are unequal.\n",
      "  DeprecationWarning)\n"
     ]
    },
    {
     "name": "stdout",
     "output_type": "stream",
     "text": [
      "RandomForestClassifier(bootstrap=True, class_weight=None, criterion='gini',\n",
      "                       max_depth=10, max_features='auto', max_leaf_nodes=None,\n",
      "                       min_impurity_decrease=0.0, min_impurity_split=None,\n",
      "                       min_samples_leaf=1, min_samples_split=10,\n",
      "                       min_weight_fraction_leaf=0.0, n_estimators=77,\n",
      "                       n_jobs=None, oob_score=False, random_state=100,\n",
      "                       verbose=0, warm_start=False)\n",
      "cv_score: 0.8306367466762561 0.03482526029669744\n",
      "feature importance:\n",
      "                               coef1  abs_coef1\n",
      "Sex_male                   0.402871   0.402871\n",
      "Fare_log                   0.211081   0.211081\n",
      "Pclass_3                   0.089309   0.089309\n",
      "family                     0.081970   0.081970\n",
      "cabin_section              0.067919   0.067919\n",
      "Age_group_kid (0-6)        0.028566   0.028566\n",
      "name_title_Master.         0.027894   0.027894\n",
      "Embarked_S                 0.026190   0.026190\n",
      "Pclass_2                   0.024903   0.024903\n",
      "Age_group_teenager (6-18)  0.015023   0.015023\n",
      "Embarked_Q                 0.009395   0.009395\n",
      "Fare_zero                  0.004418   0.004418\n",
      "name_title_Dr.             0.003102   0.003102\n",
      "name_title_Rev.            0.002669   0.002669\n",
      "name_title_Col.            0.002052   0.002052\n",
      "name_title_Capt.           0.001145   0.001145\n",
      "name_title_Major.          0.001145   0.001145\n",
      "name_title_Don.            0.000348   0.000348\n",
      "CPU times: user 2.89 s, sys: 84.7 ms, total: 2.97 s\n",
      "Wall time: 1min 32s\n"
     ]
    }
   ],
   "source": [
    "%%time\n",
    "\n",
    "param = { 'n_estimators': np.linspace(10, 100, 5).astype(int),\n",
    "#             'max_features': [4, 7, 10, 13], \n",
    "              'min_samples_leaf': [1, 3, 5, 7], \n",
    "              'min_samples_split':[5, 10, 20],\n",
    "              'max_depth': [5, 10, 15, 20]\n",
    "        }\n",
    "\n",
    "\n",
    "gs = GridSearchCV(RandomForestClassifier(random_state=100),\n",
    "                     param_grid=param,\n",
    "                     cv=5,\n",
    "                     n_jobs=-1,\n",
    "                     verbose=True\n",
    "                    )\n",
    "\n",
    "gs.fit(X_train_scaled, y_train)\n",
    "\n",
    "model = gs.best_estimator_\n",
    "\n",
    "cv_score = cross_val_score(model, X_train_scaled, y_train, cv=5, n_jobs=-1)\n",
    "print(model)\n",
    "print(\"cv_score:\", cv_score.mean(), cv_score.std())  \n",
    "\n",
    "model.fit(X_train_scaled, y_train)\n",
    "\n",
    "y_pred = model.predict(X_test_scaled)  \n",
    "# make_submission_file(y_pred=y_pred)\n",
    "\n",
    "# feature importance\n",
    "df_feature = pd.DataFrame({'coef1': model.feature_importances_, 'abs_coef1': abs(model.feature_importances_)}, index=features).sort_values('abs_coef1', ascending=False)\n",
    "print(\"feature importance:\\n\", df_feature)"
   ]
  },
  {
   "cell_type": "markdown",
   "metadata": {},
   "source": [
    "**Selecting only top N features to migigate overfitting**"
   ]
  },
  {
   "cell_type": "code",
   "execution_count": 25,
   "metadata": {},
   "outputs": [],
   "source": [
    "top_features = df_feature.head(10).index.values\n",
    "X_train_scaled_top = pd.DataFrame(X_train_scaled, columns=features)[top_features].values\n",
    "X_test_scaled_top = pd.DataFrame(X_test_scaled, columns=features)[top_features].values"
   ]
  },
  {
   "cell_type": "code",
   "execution_count": 26,
   "metadata": {},
   "outputs": [
    {
     "name": "stdout",
     "output_type": "stream",
     "text": [
      "cv score: 0.8182645710473876 0.02343044346691317\n",
      "                        coef1  abs_coef1\n",
      "Sex_male            -1.368611   1.368611\n",
      "family              -0.618654   0.618654\n",
      "name_title_Master.   0.585241   0.585241\n",
      "Pclass_3            -0.432016   0.432016\n",
      "Fare_log             0.322076   0.322076\n",
      "cabin_section        0.304415   0.304415\n",
      "name_title_Rev.     -0.187288   0.187288\n",
      "Embarked_S          -0.175229   0.175229\n",
      "Age_group_kid (0-6)  0.132797   0.132797\n",
      "name_title_Don.     -0.091647   0.091647\n",
      "CPU times: user 57.9 ms, sys: 6.26 ms, total: 64.2 ms\n",
      "Wall time: 119 ms\n"
     ]
    },
    {
     "name": "stderr",
     "output_type": "stream",
     "text": [
      "/opt/conda/lib/python3.6/site-packages/sklearn/linear_model/logistic.py:432: FutureWarning: Default solver will be changed to 'lbfgs' in 0.22. Specify a solver to silence this warning.\n",
      "  FutureWarning)\n"
     ]
    }
   ],
   "source": [
    "%%time\n",
    "\n",
    "# fit model no training data\n",
    "model = LogisticRegression(C=0.12)\n",
    "\n",
    "cv_score = cross_val_score(model, X_train_scaled_top, y_train, cv=5, n_jobs=-1)\n",
    "print(\"cv score:\", cv_score.mean(), cv_score.std())   \n",
    "model.fit(X_train_scaled_top, y_train)\n",
    "\n",
    "# feature importance\n",
    "# df_features_top = pd.DataFrame({'coef1': model.feature_importances_, 'abs_coef1': abs(model.feature_importances_)}, index=top_features).sort_values('abs_coef1', ascending=False)\n",
    "df_features_top = pd.DataFrame({'coef1': model.coef_[0], 'abs_coef1': abs(model.coef_[0])}, index=top_features).sort_values('abs_coef1', ascending=False)\n",
    "\n",
    "print(df_features_top)\n",
    "\n",
    "y_pred = model.predict(X_test_scaled_top)  # ---> PL score: 0.77511!! XGBOOST is the best model as expected!\n",
    "make_submission_file(y_pred=y_pred)"
   ]
  },
  {
   "cell_type": "code",
   "execution_count": null,
   "metadata": {},
   "outputs": [],
   "source": []
  },
  {
   "cell_type": "code",
   "execution_count": null,
   "metadata": {},
   "outputs": [],
   "source": []
  }
 ],
 "metadata": {
  "kernelspec": {
   "display_name": "Python 3",
   "language": "python",
   "name": "python3"
  },
  "language_info": {
   "codemirror_mode": {
    "name": "ipython",
    "version": 3
   },
   "file_extension": ".py",
   "mimetype": "text/x-python",
   "name": "python",
   "nbconvert_exporter": "python",
   "pygments_lexer": "ipython3",
   "version": "3.6.6"
  }
 },
 "nbformat": 4,
 "nbformat_minor": 2
}
